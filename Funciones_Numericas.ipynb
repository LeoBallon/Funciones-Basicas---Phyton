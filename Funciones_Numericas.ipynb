{
  "nbformat": 4,
  "nbformat_minor": 0,
  "metadata": {
    "colab": {
      "name": "Funciones_Numericas.ipynb",
      "provenance": [],
      "collapsed_sections": [],
      "include_colab_link": true
    },
    "kernelspec": {
      "name": "python3",
      "display_name": "Python 3"
    }
  },
  "cells": [
    {
      "cell_type": "markdown",
      "metadata": {
        "id": "view-in-github",
        "colab_type": "text"
      },
      "source": [
        "<a href=\"https://colab.research.google.com/github/LeoBallon/Funciones-Basicas---Phyton/blob/master/Funciones_Numericas.ipynb\" target=\"_parent\"><img src=\"https://colab.research.google.com/assets/colab-badge.svg\" alt=\"Open In Colab\"/></a>"
      ]
    },
    {
      "cell_type": "markdown",
      "metadata": {
        "id": "E4Wt8oEsn0_k",
        "colab_type": "text"
      },
      "source": [
        "# FUNCIONES NUMERICAS"
      ]
    },
    {
      "cell_type": "markdown",
      "metadata": {
        "id": "QPNzU41xRcxB",
        "colab_type": "text"
      },
      "source": [
        "3. Calcular el producto de 444...444 (150 dígitos) por 777...777 (300 dígitos). Sin escribir el número completo."
      ]
    },
    {
      "cell_type": "code",
      "metadata": {
        "id": "vVQEQR04R52O",
        "colab_type": "code",
        "colab": {
          "base_uri": "https://localhost:8080/",
          "height": 55
        },
        "outputId": "ae2a1dc8-3db9-4fb1-d564-b7568dd083c8"
      },
      "source": [
        "#Resolucion\n",
        "a = '4'*150\n",
        "b = '5'*300\n",
        "int(a) * int(b)\n",
        "\n"
      ],
      "execution_count": null,
      "outputs": [
        {
          "output_type": "execute_result",
          "data": {
            "text/plain": [
              "246913580246913580246913580246913580246913580246913580246913580246913580246913580246913580246913580246913580246913580246913580246913580246913580246913333333333333333333333333333333333333333333333333333333333333333333333333333333333333333333333333333333333333333333333333333333333333333333333333333333086419753086419753086419753086419753086419753086419753086419753086419753086419753086419753086419753086419753086419753086419753086419753086419753086420"
            ]
          },
          "metadata": {
            "tags": []
          },
          "execution_count": 1
        }
      ]
    },
    {
      "cell_type": "code",
      "metadata": {
        "id": "btLxlOyyR559",
        "colab_type": "code",
        "colab": {}
      },
      "source": [
        ""
      ],
      "execution_count": null,
      "outputs": []
    },
    {
      "cell_type": "markdown",
      "metadata": {
        "id": "SDynJuXLRggY",
        "colab_type": "text"
      },
      "source": [
        "4. Solicitar por pantalla 'n' segundos e imprimir la cantidad de horas, minutos y segundos que representa.\n",
        "\n",
        "- Ejemplo\n",
        "\n",
        "  315\n",
        "\n",
        "  0 horas\n",
        "  5 minutos\n",
        "  15 segundos   "
      ]
    },
    {
      "cell_type": "code",
      "metadata": {
        "id": "qP6RBvJ2SfK3",
        "colab_type": "code",
        "colab": {
          "base_uri": "https://localhost:8080/",
          "height": 52
        },
        "outputId": "02720f2e-5c6f-492e-c0fe-6f1a536eca99"
      },
      "source": [
        "#Resolucion\n",
        "s= int(input(\"Inserte segungos: \"))\n",
        "s\n",
        "m=s//60\n",
        "s_r=s%60\n",
        "h=m//60\n",
        "print (\"El resultado es :\",h, \"Horas\", m,\"minutos\", s_r, \"Segundos\" )"
      ],
      "execution_count": null,
      "outputs": [
        {
          "output_type": "stream",
          "text": [
            "Inserte segungos: 315\n",
            "El resultado es : 0 Horas 5 minutos 15 Segundos\n"
          ],
          "name": "stdout"
        }
      ]
    },
    {
      "cell_type": "code",
      "metadata": {
        "id": "mSfIzcioTXc8",
        "colab_type": "code",
        "colab": {}
      },
      "source": [
        ""
      ],
      "execution_count": null,
      "outputs": []
    }
  ]
}